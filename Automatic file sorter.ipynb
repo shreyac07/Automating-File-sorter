{
 "cells": [
  {
   "cell_type": "code",
   "execution_count": 1,
   "id": "a4390525-286e-4666-8bd9-144af144a970",
   "metadata": {},
   "outputs": [],
   "source": [
    "import os,shutil"
   ]
  },
  {
   "cell_type": "code",
   "execution_count": 40,
   "id": "19254f73-c9a0-4caa-80f7-1d09f147efb7",
   "metadata": {},
   "outputs": [],
   "source": [
    "path = r\"E:/data analytics/automatic file sorter/\""
   ]
  },
  {
   "cell_type": "code",
   "execution_count": 41,
   "id": "53a8b734-cb69-4391-8b8e-89230ad00bdb",
   "metadata": {},
   "outputs": [],
   "source": [
    "file_name = os.listdir(path)"
   ]
  },
  {
   "cell_type": "code",
   "execution_count": 42,
   "id": "3262cec1-d7ec-48b4-b4e3-09e8f61ad4e1",
   "metadata": {},
   "outputs": [],
   "source": [
    "folder_names = ['xlsx file','image file','text file']"
   ]
  },
  {
   "cell_type": "code",
   "execution_count": 43,
   "id": "83a12638-8e26-4952-969a-4ec97a8dfb67",
   "metadata": {},
   "outputs": [],
   "source": [
    "for loop in range(0,3):\n",
    "    if not os.path.exists(path + folder_names[loop]):\n",
    "        print(path + folder_names[loop])\n",
    "        os.makedirs(path + folder_names[loop])"
   ]
  },
  {
   "cell_type": "code",
   "execution_count": 44,
   "id": "0b74d655-c77b-4971-ba8e-3ab9fb1c51b7",
   "metadata": {},
   "outputs": [],
   "source": [
    "for file in file_name:\n",
    "    if \".xlsx\" in file and not os.path.exists(path + \"xlsx file/\" + file):\n",
    "        shutil.move(path + file, path + \"xlsx file/\" + file)\n",
    "    elif \".jpg\" in file and not os.path.exists(path + \"image file/\" + file):\n",
    "        shutil.move(path + file, path + \"image file/\" + file)\n",
    "    elif \".txt\" in file and not os.path.exists(path + \"text file/\" + file):\n",
    "        shutil.move(path + file, path + \"text file/\" + file)"
   ]
  },
  {
   "cell_type": "code",
   "execution_count": null,
   "id": "204dc892-7794-4510-8507-3fd064dbf41a",
   "metadata": {},
   "outputs": [],
   "source": []
  }
 ],
 "metadata": {
  "kernelspec": {
   "display_name": "Python 3 (ipykernel)",
   "language": "python",
   "name": "python3"
  },
  "language_info": {
   "codemirror_mode": {
    "name": "ipython",
    "version": 3
   },
   "file_extension": ".py",
   "mimetype": "text/x-python",
   "name": "python",
   "nbconvert_exporter": "python",
   "pygments_lexer": "ipython3",
   "version": "3.10.8"
  }
 },
 "nbformat": 4,
 "nbformat_minor": 5
}
